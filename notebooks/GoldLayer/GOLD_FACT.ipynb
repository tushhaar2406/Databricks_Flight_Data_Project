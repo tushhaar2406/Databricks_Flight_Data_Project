{
 "cells": [
  {
   "cell_type": "code",
   "execution_count": 0,
   "metadata": {
    "application/vnd.databricks.v1+cell": {
     "cellMetadata": {
      "byteLimit": 2048000,
      "rowLimit": 10000
     },
     "inputWidgets": {},
     "nuid": "4a0c73b1-a0a0-4240-9968-ee158f7981ed",
     "showTitle": false,
     "tableResultSettingsMap": {},
     "title": ""
    }
   },
   "outputs": [],
   "source": [
    "from pyspark.sql.functions import * \n",
    "from pyspark.sql.types import *"
   ]
  },
  {
   "cell_type": "code",
   "execution_count": 0,
   "metadata": {
    "application/vnd.databricks.v1+cell": {
     "cellMetadata": {
      "byteLimit": 2048000,
      "rowLimit": 10000
     },
     "inputWidgets": {},
     "nuid": "1788ffe9-8813-400a-a423-64250a1cd5fe",
     "showTitle": false,
     "tableResultSettingsMap": {},
     "title": ""
    }
   },
   "outputs": [],
   "source": [
    "# Catalog Name\n",
    "catalog = \"workspace\"\n",
    "\n",
    "# Source Schema\n",
    "source_schema = \"flight_silver\"\n",
    "\n",
    "# Source Object \n",
    "source_object = \"silver_bookings\"\n",
    "\n",
    "# CDC Column\n",
    "cdc_column = \"modifiedDate\"\n",
    "\n",
    "# Backdated Refresh\n",
    "backdated_refresh = \"\"\n",
    "\n",
    "# Source Fact Table\n",
    "fact_table = f\"{catalog}.{source_schema}.{source_object}\"\n",
    "\n",
    "# Target Schema \n",
    "target_schema = \"flight_gold\"\n",
    "\n",
    "# Target Object \n",
    "target_object = \"FactBookings\"\n",
    "\n",
    "# Fact Key Cols List \n",
    "fact_key_cols = [\"DimPassengersKey\",\"DimFlightsKey\",\"DimAirportsKey\",\"booking_date\"]\n"
   ]
  },
  {
   "cell_type": "code",
   "execution_count": 0,
   "metadata": {
    "application/vnd.databricks.v1+cell": {
     "cellMetadata": {
      "byteLimit": 2048000,
      "rowLimit": 10000
     },
     "inputWidgets": {},
     "nuid": "7a6fdd9a-ec6b-426d-a03d-1c16a2a2360e",
     "showTitle": false,
     "tableResultSettingsMap": {},
     "title": ""
    }
   },
   "outputs": [],
   "source": [
    "dimensions = [\n",
    "    {\n",
    "        \"table\": f\"{catalog}.{target_schema}.DimPassengers\",\n",
    "        \"alias\": \"DimPassengers\",\n",
    "        \"join_keys\": [(\"passenger_id\", \"passenger_id\")]  # (fact_col, dim_col)\n",
    "    },\n",
    "    {\n",
    "        \"table\": f\"{catalog}.{target_schema}.DimFlights\",\n",
    "        \"alias\": \"DimFlights\",\n",
    "        \"join_keys\": [(\"flight_id\", \"flight_id\")]  # (fact_col, dim_col)\n",
    "    },\n",
    "    {\n",
    "        \"table\": f\"{catalog}.{target_schema}.DimAirports\",\n",
    "        \"alias\": \"DimAirports\",\n",
    "        \"join_keys\": [(\"airport_id\", \"airport_id\")]  # (fact_col, dim_col)\n",
    "    },\n",
    "]\n",
    "\n",
    "'''\n",
    "Note : You can use the below code to add more dimensions to the fact table.\n",
    " \"join_keys\": [\n",
    "            (\"CountryID\", \"CountryID\"),\n",
    "            (\"RegionID\", \"RegionID\")\n",
    "        ]\n",
    "'''\n",
    "\n",
    "\n",
    "# Columns you want to keep from Fact table (besides the surrogate keys)\n",
    "fact_columns = [\"amount\",\"booking_date\",\"modifiedDate\"]"
   ]
  },
  {
   "cell_type": "code",
   "execution_count": 0,
   "metadata": {
    "application/vnd.databricks.v1+cell": {
     "cellMetadata": {
      "byteLimit": 2048000,
      "rowLimit": 10000
     },
     "inputWidgets": {},
     "nuid": "9abb964c-7168-4699-8f4b-07c621346f89",
     "showTitle": false,
     "tableResultSettingsMap": {},
     "title": ""
    }
   },
   "outputs": [],
   "source": [
    "# No Back Dated Refresh\n",
    "if len(backdated_refresh) == 0:\n",
    "  \n",
    "  # If Table Exists In The Destination\n",
    "  if spark.catalog.tableExists(f\"{catalog}.{target_schema}.{target_object}\"):\n",
    "\n",
    "    last_load = spark.sql(f\"SELECT max({cdc_column}) FROM workspace.{target_schema}.{target_object}\").collect()[0][0]\n",
    "    \n",
    "  else:\n",
    "    last_load = \"1900-01-01 00:00:00\"\n",
    "\n",
    "# Yes Back Dated Refresh\n",
    "else:\n",
    "  last_load = backdated_refresh\n",
    "\n",
    "# Test The Last Load \n",
    "last_load"
   ]
  },
  {
   "cell_type": "code",
   "execution_count": 0,
   "metadata": {
    "application/vnd.databricks.v1+cell": {
     "cellMetadata": {
      "byteLimit": 2048000,
      "rowLimit": 10000
     },
     "inputWidgets": {},
     "nuid": "5bdb9947-15d6-48c0-a487-775a71ad41e7",
     "showTitle": false,
     "tableResultSettingsMap": {},
     "title": ""
    }
   },
   "outputs": [],
   "source": [
    "def generate_fact_query_incremental(fact_table, dimensions, fact_columns, cdc_column, processing_date):\n",
    "    fact_alias = \"f\"\n",
    "    \n",
    "    # Base columns to select\n",
    "    select_cols = [f\"{fact_alias}.{col}\" for col in fact_columns]\n",
    "\n",
    "    # Build joins dynamically\n",
    "    join_clauses = []\n",
    "    for dim in dimensions:\n",
    "        table_full = dim[\"table\"]\n",
    "        alias = dim[\"alias\"]\n",
    "        table_name = table_full.split('.')[-1]\n",
    "        surrogate_key = f\"{alias}.{table_name}Key\"\n",
    "        select_cols.append(surrogate_key)\n",
    "\n",
    "        # Build ON clause\n",
    "        on_conditions = [\n",
    "            f\"{fact_alias}.{fk} = {alias}.{dk}\" for fk, dk in dim[\"join_keys\"]\n",
    "        ]\n",
    "        join_clause = f\"LEFT JOIN {table_full} {alias} ON \" + \" AND \".join(on_conditions)\n",
    "        join_clauses.append(join_clause)\n",
    "\n",
    "    # Final SELECT and JOIN clauses\n",
    "    select_clause = \",\\n    \".join(select_cols)\n",
    "    joins = \"\\n\".join(join_clauses)\n",
    "\n",
    "    # WHERE clause for incremental filtering\n",
    "    where_clause = f\"{fact_alias}.{cdc_column} >= DATE('{last_load}')\"\n",
    "\n",
    "    # Final query\n",
    "    query = f\"\"\"\n",
    "SELECT\n",
    "    {select_clause}\n",
    "FROM {fact_table} {fact_alias}\n",
    "{joins}\n",
    "WHERE {where_clause}\n",
    "\"\"\".strip()\n",
    "\n",
    "    return query\n"
   ]
  },
  {
   "cell_type": "code",
   "execution_count": 0,
   "metadata": {
    "application/vnd.databricks.v1+cell": {
     "cellMetadata": {
      "byteLimit": 2048000,
      "rowLimit": 10000
     },
     "inputWidgets": {},
     "nuid": "ea6eea64-a636-4236-910d-ed8f491f053c",
     "showTitle": false,
     "tableResultSettingsMap": {},
     "title": ""
    }
   },
   "outputs": [],
   "source": [
    "query = generate_fact_query_incremental(fact_table, dimensions, fact_columns, cdc_column, last_load)"
   ]
  },
  {
   "cell_type": "code",
   "execution_count": 0,
   "metadata": {
    "application/vnd.databricks.v1+cell": {
     "cellMetadata": {},
     "inputWidgets": {},
     "nuid": "92c69abf-35f9-436c-9ec4-aae0de471116",
     "showTitle": false,
     "tableResultSettingsMap": {},
     "title": ""
    }
   },
   "outputs": [],
   "source": []
  }
 ],
 "metadata": {
  "application/vnd.databricks.v1+notebook": {
   "computePreferences": null,
   "dashboards": [],
   "environmentMetadata": {
    "base_environment": "",
    "environment_version": "3"
   },
   "inputWidgetPreferences": null,
   "language": "python",
   "notebookMetadata": {
    "pythonIndentUnit": 4
   },
   "notebookName": "GOLD_FACT",
   "widgets": {}
  },
  "language_info": {
   "name": "python"
  }
 },
 "nbformat": 4,
 "nbformat_minor": 0
}
