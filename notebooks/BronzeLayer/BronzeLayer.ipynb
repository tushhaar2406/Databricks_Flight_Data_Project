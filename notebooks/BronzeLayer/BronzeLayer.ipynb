{
 "cells": [
  {
   "cell_type": "code",
   "execution_count": 0,
   "metadata": {
    "application/vnd.databricks.v1+cell": {
     "cellMetadata": {
      "byteLimit": 2048000,
      "rowLimit": 10000
     },
     "inputWidgets": {},
     "nuid": "ce53fbc2-cbcb-4b3e-9f6c-498fb22ca0c6",
     "showTitle": false,
     "tableResultSettingsMap": {},
     "title": ""
    }
   },
   "outputs": [],
   "source": [
    "\n",
    "import yaml\n",
    "\n",
    "\n",
    "yaml_path = \"/Workspace/Users/tushhaar24@gmail.com/Databricks_flight_project/Databricks_Flight_Data_Project/configs/autoloader_bronze.yml\"\n",
    "\n",
    "with open(yaml_path, \"r\") as f:\n",
    "    config = yaml.safe_load(f)\n",
    "\n",
    "autoloader_cfg = config[\"autoloader\"]\n",
    "\n",
    "\n",
    "file_format = autoloader_cfg[\"file_format\"]\n",
    "options = autoloader_cfg.get(\"options\", {})\n",
    "checkpoint_template = autoloader_cfg[\"checkpoint_location\"]\n",
    "target_template = autoloader_cfg[\"target_path\"]\n",
    "source_template = autoloader_cfg[\"source_path\"]\n",
    "tables = autoloader_cfg[\"tables\"]\n",
    "\n",
    "\n",
    "dbutils.widgets.text(\"src\", \"\")\n",
    "src_value = dbutils.widgets.get(\"src\")\n",
    "\n",
    "\n",
    "if src_value and src_value in tables:\n",
    "    tables_to_process = [src_value]\n",
    "else:\n",
    "    tables_to_process = tables\n",
    "\n",
    "print(f\"Tables selected for ingestion: {tables_to_process}\")\n",
    "\n",
    "\n",
    "for table in tables_to_process:\n",
    "    print(f\"Processing table: {table}\")\n",
    "\n",
    "    \n",
    "    checkpoint_path = checkpoint_template.format(table=table)\n",
    "    target_path = target_template.format(table=table)\n",
    "    source_path = source_template.format(table=table)\n",
    "\n",
    "    \n",
    "    df = (\n",
    "        spark.readStream.format(\"cloudFiles\")\n",
    "        .option(\"cloudFiles.format\", file_format)\n",
    "        .options(**options)  \n",
    "        .option(\"cloudFiles.schemaLocation\", checkpoint_path)\n",
    "        .load(source_path)\n",
    "    )\n",
    "\n",
    "    \n",
    "    (\n",
    "        df.writeStream.format(\"delta\")\n",
    "        .outputMode(\"append\")\n",
    "        .trigger(once=True)\n",
    "        .option(\"checkpointLocation\", checkpoint_path)\n",
    "        .option(\"path\", target_path)\n",
    "        .start()\n",
    "    )\n",
    "\n",
    "print(\"Bronze ingestion job submitted.\")\n"
   ]
  },
  {
   "cell_type": "code",
   "execution_count": 0,
   "metadata": {
    "application/vnd.databricks.v1+cell": {
     "cellMetadata": {},
     "inputWidgets": {},
     "nuid": "86af3fbf-79c8-4dc5-a897-02f5845514bc",
     "showTitle": false,
     "tableResultSettingsMap": {},
     "title": ""
    }
   },
   "outputs": [],
   "source": []
  }
 ],
 "metadata": {
  "application/vnd.databricks.v1+notebook": {
   "computePreferences": {
    "hardware": {
     "accelerator": null,
     "gpuPoolId": null,
     "memory": null
    }
   },
   "dashboards": [],
   "environmentMetadata": {
    "base_environment": "",
    "environment_version": "2"
   },
   "inputWidgetPreferences": null,
   "language": "python",
   "notebookMetadata": {
    "mostRecentlyExecutedCommandWithImplicitDF": {
     "commandId": 7413683175399968,
     "dataframes": [
      "_sqldf"
     ]
    },
    "pythonIndentUnit": 4
   },
   "notebookName": "BronzeLayer",
   "widgets": {}
  },
  "language_info": {
   "name": "python"
  }
 },
 "nbformat": 4,
 "nbformat_minor": 0
}
